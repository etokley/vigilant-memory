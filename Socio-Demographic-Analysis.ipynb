{
 "cells": [
  {
   "cell_type": "code",
   "execution_count": 1,
   "metadata": {},
   "outputs": [
    {
     "data": {
      "text/plain": [
       "'/home/elton/Downloads/contr-use-among-adol'"
      ]
     },
     "execution_count": 1,
     "metadata": {},
     "output_type": "execute_result"
    }
   ],
   "source": [
    "import os\n",
    "os.getcwd()"
   ]
  },
  {
   "cell_type": "code",
   "execution_count": 2,
   "metadata": {},
   "outputs": [],
   "source": [
    "import numpy as np\n",
    "import pandas as pd\n",
    "import matplotlib.pyplot as plt\n",
    "import seaborn as sns\n",
    "import matplotlib.pyplot as plt\n",
    "import warnings\n",
    "warnings.filterwarnings(\"ignore\")"
   ]
  },
  {
   "cell_type": "code",
   "execution_count": 3,
   "metadata": {},
   "outputs": [
    {
     "data": {
      "text/html": [
       "<div>\n",
       "<style scoped>\n",
       "    .dataframe tbody tr th:only-of-type {\n",
       "        vertical-align: middle;\n",
       "    }\n",
       "\n",
       "    .dataframe tbody tr th {\n",
       "        vertical-align: top;\n",
       "    }\n",
       "\n",
       "    .dataframe thead th {\n",
       "        text-align: right;\n",
       "    }\n",
       "</style>\n",
       "<table border=\"1\" class=\"dataframe\">\n",
       "  <thead>\n",
       "    <tr style=\"text-align: right;\">\n",
       "      <th></th>\n",
       "      <th>ID</th>\n",
       "      <th>age</th>\n",
       "      <th>sex</th>\n",
       "      <th>religion</th>\n",
       "      <th>other3</th>\n",
       "      <th>ethnicity</th>\n",
       "      <th>other4</th>\n",
       "      <th>education</th>\n",
       "      <th>maritalstatus</th>\n",
       "      <th>other6</th>\n",
       "      <th>...</th>\n",
       "      <th>FC7</th>\n",
       "      <th>FC7a</th>\n",
       "      <th>FC7b</th>\n",
       "      <th>FC7c</th>\n",
       "      <th>FC7d</th>\n",
       "      <th>FC7e</th>\n",
       "      <th>FC7f</th>\n",
       "      <th>FC7g</th>\n",
       "      <th>FC8</th>\n",
       "      <th>FC9</th>\n",
       "    </tr>\n",
       "  </thead>\n",
       "  <tbody>\n",
       "    <tr>\n",
       "      <th>0</th>\n",
       "      <td>1</td>\n",
       "      <td>18.0</td>\n",
       "      <td>female</td>\n",
       "      <td>christianity</td>\n",
       "      <td>NaN</td>\n",
       "      <td>akan</td>\n",
       "      <td>NaN</td>\n",
       "      <td>secondary</td>\n",
       "      <td>single</td>\n",
       "      <td>NaN</td>\n",
       "      <td>...</td>\n",
       "      <td>NaN</td>\n",
       "      <td>yes</td>\n",
       "      <td>no</td>\n",
       "      <td>no</td>\n",
       "      <td>no</td>\n",
       "      <td>no</td>\n",
       "      <td>no</td>\n",
       "      <td>no</td>\n",
       "      <td>yes</td>\n",
       "      <td>NaN</td>\n",
       "    </tr>\n",
       "    <tr>\n",
       "      <th>1</th>\n",
       "      <td>2</td>\n",
       "      <td>17.0</td>\n",
       "      <td>male</td>\n",
       "      <td>islam</td>\n",
       "      <td>NaN</td>\n",
       "      <td>akan</td>\n",
       "      <td>NaN</td>\n",
       "      <td>secondary</td>\n",
       "      <td>single</td>\n",
       "      <td>NaN</td>\n",
       "      <td>...</td>\n",
       "      <td>NaN</td>\n",
       "      <td>no</td>\n",
       "      <td>yes</td>\n",
       "      <td>no</td>\n",
       "      <td>no</td>\n",
       "      <td>no</td>\n",
       "      <td>no</td>\n",
       "      <td>no</td>\n",
       "      <td>yes</td>\n",
       "      <td>NaN</td>\n",
       "    </tr>\n",
       "    <tr>\n",
       "      <th>2</th>\n",
       "      <td>3</td>\n",
       "      <td>17.0</td>\n",
       "      <td>female</td>\n",
       "      <td>christianity</td>\n",
       "      <td>NaN</td>\n",
       "      <td>akan</td>\n",
       "      <td>NaN</td>\n",
       "      <td>secondary</td>\n",
       "      <td>single</td>\n",
       "      <td>NaN</td>\n",
       "      <td>...</td>\n",
       "      <td>NaN</td>\n",
       "      <td>no</td>\n",
       "      <td>yes</td>\n",
       "      <td>yes</td>\n",
       "      <td>no</td>\n",
       "      <td>no</td>\n",
       "      <td>no</td>\n",
       "      <td>yes</td>\n",
       "      <td>no</td>\n",
       "      <td>Because your partner will be held responsible ...</td>\n",
       "    </tr>\n",
       "    <tr>\n",
       "      <th>3</th>\n",
       "      <td>4</td>\n",
       "      <td>20.0</td>\n",
       "      <td>female</td>\n",
       "      <td>christianity</td>\n",
       "      <td>NaN</td>\n",
       "      <td>ga</td>\n",
       "      <td>NaN</td>\n",
       "      <td>secondary</td>\n",
       "      <td>dating</td>\n",
       "      <td>NaN</td>\n",
       "      <td>...</td>\n",
       "      <td>NaN</td>\n",
       "      <td>no</td>\n",
       "      <td>no</td>\n",
       "      <td>no</td>\n",
       "      <td>yes</td>\n",
       "      <td>no</td>\n",
       "      <td>no</td>\n",
       "      <td>no</td>\n",
       "      <td>NaN</td>\n",
       "      <td>NaN</td>\n",
       "    </tr>\n",
       "    <tr>\n",
       "      <th>4</th>\n",
       "      <td>5</td>\n",
       "      <td>18.0</td>\n",
       "      <td>female</td>\n",
       "      <td>christianity</td>\n",
       "      <td>NaN</td>\n",
       "      <td>ga</td>\n",
       "      <td>NaN</td>\n",
       "      <td>secondary</td>\n",
       "      <td>dating</td>\n",
       "      <td>NaN</td>\n",
       "      <td>...</td>\n",
       "      <td>NaN</td>\n",
       "      <td>no</td>\n",
       "      <td>no</td>\n",
       "      <td>no</td>\n",
       "      <td>yes</td>\n",
       "      <td>no</td>\n",
       "      <td>no</td>\n",
       "      <td>no</td>\n",
       "      <td>NaN</td>\n",
       "      <td>NaN</td>\n",
       "    </tr>\n",
       "  </tbody>\n",
       "</table>\n",
       "<p>5 rows × 137 columns</p>\n",
       "</div>"
      ],
      "text/plain": [
       "   ID   age     sex      religion  other3 ethnicity other4  education  \\\n",
       "0   1  18.0  female  christianity     NaN      akan    NaN  secondary   \n",
       "1   2  17.0    male         islam     NaN      akan    NaN  secondary   \n",
       "2   3  17.0  female  christianity     NaN      akan    NaN  secondary   \n",
       "3   4  20.0  female  christianity     NaN        ga    NaN  secondary   \n",
       "4   5  18.0  female  christianity     NaN        ga    NaN  secondary   \n",
       "\n",
       "  maritalstatus  other6  ... FC7 FC7a FC7b FC7c  FC7d FC7e FC7f FC7g  FC8  \\\n",
       "0        single     NaN  ... NaN  yes   no   no    no   no   no   no  yes   \n",
       "1        single     NaN  ... NaN   no  yes   no    no   no   no   no  yes   \n",
       "2        single     NaN  ... NaN   no  yes  yes    no   no   no  yes   no   \n",
       "3        dating     NaN  ... NaN   no   no   no   yes   no   no   no  NaN   \n",
       "4        dating     NaN  ... NaN   no   no   no   yes   no   no   no  NaN   \n",
       "\n",
       "                                                 FC9  \n",
       "0                                                NaN  \n",
       "1                                                NaN  \n",
       "2  Because your partner will be held responsible ...  \n",
       "3                                                NaN  \n",
       "4                                                NaN  \n",
       "\n",
       "[5 rows x 137 columns]"
      ]
     },
     "execution_count": 3,
     "metadata": {},
     "output_type": "execute_result"
    }
   ],
   "source": [
    "df = pd.read_csv('uncoded_w_header.csv')\n",
    "# df.drop('Unnamed: 0', axis=1, inplace=True)\n",
    "df.head()"
   ]
  },
  {
   "cell_type": "code",
   "execution_count": 4,
   "metadata": {},
   "outputs": [
    {
     "data": {
      "text/html": [
       "<div>\n",
       "<style scoped>\n",
       "    .dataframe tbody tr th:only-of-type {\n",
       "        vertical-align: middle;\n",
       "    }\n",
       "\n",
       "    .dataframe tbody tr th {\n",
       "        vertical-align: top;\n",
       "    }\n",
       "\n",
       "    .dataframe thead th {\n",
       "        text-align: right;\n",
       "    }\n",
       "</style>\n",
       "<table border=\"1\" class=\"dataframe\">\n",
       "  <thead>\n",
       "    <tr style=\"text-align: right;\">\n",
       "      <th></th>\n",
       "      <th>age</th>\n",
       "      <th>sex</th>\n",
       "      <th>religion</th>\n",
       "      <th>other3</th>\n",
       "      <th>ethnicity</th>\n",
       "      <th>other4</th>\n",
       "      <th>education</th>\n",
       "      <th>maritalstatus</th>\n",
       "      <th>other6</th>\n",
       "      <th>MS1</th>\n",
       "      <th>guardian</th>\n",
       "      <th>other7</th>\n",
       "      <th>KC1</th>\n",
       "      <th>KC2</th>\n",
       "    </tr>\n",
       "  </thead>\n",
       "  <tbody>\n",
       "    <tr>\n",
       "      <th>0</th>\n",
       "      <td>18.0</td>\n",
       "      <td>female</td>\n",
       "      <td>christianity</td>\n",
       "      <td>NaN</td>\n",
       "      <td>akan</td>\n",
       "      <td>NaN</td>\n",
       "      <td>secondary</td>\n",
       "      <td>single</td>\n",
       "      <td>NaN</td>\n",
       "      <td>NaN</td>\n",
       "      <td>mother</td>\n",
       "      <td>NaN</td>\n",
       "      <td>yes</td>\n",
       "      <td>NaN</td>\n",
       "    </tr>\n",
       "    <tr>\n",
       "      <th>1</th>\n",
       "      <td>17.0</td>\n",
       "      <td>male</td>\n",
       "      <td>islam</td>\n",
       "      <td>NaN</td>\n",
       "      <td>akan</td>\n",
       "      <td>NaN</td>\n",
       "      <td>secondary</td>\n",
       "      <td>single</td>\n",
       "      <td>NaN</td>\n",
       "      <td>NaN</td>\n",
       "      <td>mother</td>\n",
       "      <td>NaN</td>\n",
       "      <td>yes</td>\n",
       "      <td>NaN</td>\n",
       "    </tr>\n",
       "    <tr>\n",
       "      <th>2</th>\n",
       "      <td>17.0</td>\n",
       "      <td>female</td>\n",
       "      <td>christianity</td>\n",
       "      <td>NaN</td>\n",
       "      <td>akan</td>\n",
       "      <td>NaN</td>\n",
       "      <td>secondary</td>\n",
       "      <td>single</td>\n",
       "      <td>NaN</td>\n",
       "      <td>NaN</td>\n",
       "      <td>uncle‎/auntie</td>\n",
       "      <td>NaN</td>\n",
       "      <td>yes</td>\n",
       "      <td>NaN</td>\n",
       "    </tr>\n",
       "    <tr>\n",
       "      <th>3</th>\n",
       "      <td>20.0</td>\n",
       "      <td>female</td>\n",
       "      <td>christianity</td>\n",
       "      <td>NaN</td>\n",
       "      <td>ga</td>\n",
       "      <td>NaN</td>\n",
       "      <td>secondary</td>\n",
       "      <td>dating</td>\n",
       "      <td>NaN</td>\n",
       "      <td>secondary</td>\n",
       "      <td>mother</td>\n",
       "      <td>NaN</td>\n",
       "      <td>yes</td>\n",
       "      <td>NaN</td>\n",
       "    </tr>\n",
       "    <tr>\n",
       "      <th>4</th>\n",
       "      <td>18.0</td>\n",
       "      <td>female</td>\n",
       "      <td>christianity</td>\n",
       "      <td>NaN</td>\n",
       "      <td>ga</td>\n",
       "      <td>NaN</td>\n",
       "      <td>secondary</td>\n",
       "      <td>dating</td>\n",
       "      <td>NaN</td>\n",
       "      <td>tertiary</td>\n",
       "      <td>mother</td>\n",
       "      <td>NaN</td>\n",
       "      <td>yes</td>\n",
       "      <td>NaN</td>\n",
       "    </tr>\n",
       "  </tbody>\n",
       "</table>\n",
       "</div>"
      ],
      "text/plain": [
       "    age     sex      religion  other3 ethnicity other4  education  \\\n",
       "0  18.0  female  christianity     NaN      akan    NaN  secondary   \n",
       "1  17.0    male         islam     NaN      akan    NaN  secondary   \n",
       "2  17.0  female  christianity     NaN      akan    NaN  secondary   \n",
       "3  20.0  female  christianity     NaN        ga    NaN  secondary   \n",
       "4  18.0  female  christianity     NaN        ga    NaN  secondary   \n",
       "\n",
       "  maritalstatus  other6        MS1       guardian other7  KC1  KC2  \n",
       "0        single     NaN        NaN         mother    NaN  yes  NaN  \n",
       "1        single     NaN        NaN         mother    NaN  yes  NaN  \n",
       "2        single     NaN        NaN  uncle‎/auntie    NaN  yes  NaN  \n",
       "3        dating     NaN  secondary         mother    NaN  yes  NaN  \n",
       "4        dating     NaN   tertiary         mother    NaN  yes  NaN  "
      ]
     },
     "execution_count": 4,
     "metadata": {},
     "output_type": "execute_result"
    }
   ],
   "source": [
    "section_a = df[[\"age\", \"sex\", \"religion\", \"other3\", \"ethnicity\", \"other4\", \"education\", \"maritalstatus\", \"other6\", \"MS1\", \"guardian\", \"other7\", \"KC1\", \"KC2\"]]\n",
    "section_a.head()"
   ]
  },
  {
   "cell_type": "markdown",
   "metadata": {},
   "source": [
    "<h1>Data Preprocessing</h1>"
   ]
  },
  {
   "cell_type": "markdown",
   "metadata": {},
   "source": [
    "<p>There were some missing values in the data so this is how it was treated:</p>\n",
    "\n",
    "<ul>\n",
    "    <li>For the missing ages I filled it in with the mean ages</li>\n",
    "    <li>There was one missing value for the educational level of the married/dating so I filled it in with the mode of the educational level of married/singles which was Secondary</li>\n",
    "</ul>"
   ]
  },
  {
   "cell_type": "code",
   "execution_count": 5,
   "metadata": {},
   "outputs": [
    {
     "data": {
      "text/plain": [
       "(200, 14)"
      ]
     },
     "execution_count": 5,
     "metadata": {},
     "output_type": "execute_result"
    }
   ],
   "source": [
    "section_a.shape"
   ]
  },
  {
   "cell_type": "markdown",
   "metadata": {},
   "source": [
    "<h3>Descriptive Statistics</h3>"
   ]
  },
  {
   "cell_type": "code",
   "execution_count": 6,
   "metadata": {},
   "outputs": [
    {
     "data": {
      "text/html": [
       "<div>\n",
       "<style scoped>\n",
       "    .dataframe tbody tr th:only-of-type {\n",
       "        vertical-align: middle;\n",
       "    }\n",
       "\n",
       "    .dataframe tbody tr th {\n",
       "        vertical-align: top;\n",
       "    }\n",
       "\n",
       "    .dataframe thead th {\n",
       "        text-align: right;\n",
       "    }\n",
       "</style>\n",
       "<table border=\"1\" class=\"dataframe\">\n",
       "  <thead>\n",
       "    <tr style=\"text-align: right;\">\n",
       "      <th></th>\n",
       "      <th>age</th>\n",
       "      <th>sex</th>\n",
       "      <th>religion</th>\n",
       "      <th>other3</th>\n",
       "      <th>ethnicity</th>\n",
       "      <th>other4</th>\n",
       "      <th>education</th>\n",
       "      <th>maritalstatus</th>\n",
       "      <th>other6</th>\n",
       "      <th>MS1</th>\n",
       "      <th>guardian</th>\n",
       "      <th>other7</th>\n",
       "      <th>KC1</th>\n",
       "      <th>KC2</th>\n",
       "    </tr>\n",
       "  </thead>\n",
       "  <tbody>\n",
       "    <tr>\n",
       "      <th>count</th>\n",
       "      <td>178.000000</td>\n",
       "      <td>200</td>\n",
       "      <td>200</td>\n",
       "      <td>1.0</td>\n",
       "      <td>188</td>\n",
       "      <td>13</td>\n",
       "      <td>200</td>\n",
       "      <td>200</td>\n",
       "      <td>0.0</td>\n",
       "      <td>70</td>\n",
       "      <td>180</td>\n",
       "      <td>20</td>\n",
       "      <td>200</td>\n",
       "      <td>0.0</td>\n",
       "    </tr>\n",
       "    <tr>\n",
       "      <th>unique</th>\n",
       "      <td>NaN</td>\n",
       "      <td>2</td>\n",
       "      <td>3</td>\n",
       "      <td>NaN</td>\n",
       "      <td>6</td>\n",
       "      <td>11</td>\n",
       "      <td>1</td>\n",
       "      <td>3</td>\n",
       "      <td>NaN</td>\n",
       "      <td>5</td>\n",
       "      <td>3</td>\n",
       "      <td>3</td>\n",
       "      <td>2</td>\n",
       "      <td>NaN</td>\n",
       "    </tr>\n",
       "    <tr>\n",
       "      <th>top</th>\n",
       "      <td>NaN</td>\n",
       "      <td>male</td>\n",
       "      <td>christianity</td>\n",
       "      <td>NaN</td>\n",
       "      <td>akan</td>\n",
       "      <td>hausa</td>\n",
       "      <td>secondary</td>\n",
       "      <td>single</td>\n",
       "      <td>NaN</td>\n",
       "      <td>secondary</td>\n",
       "      <td>mother</td>\n",
       "      <td>both parents</td>\n",
       "      <td>yes</td>\n",
       "      <td>NaN</td>\n",
       "    </tr>\n",
       "    <tr>\n",
       "      <th>freq</th>\n",
       "      <td>NaN</td>\n",
       "      <td>121</td>\n",
       "      <td>181</td>\n",
       "      <td>NaN</td>\n",
       "      <td>162</td>\n",
       "      <td>3</td>\n",
       "      <td>200</td>\n",
       "      <td>129</td>\n",
       "      <td>NaN</td>\n",
       "      <td>48</td>\n",
       "      <td>103</td>\n",
       "      <td>18</td>\n",
       "      <td>198</td>\n",
       "      <td>NaN</td>\n",
       "    </tr>\n",
       "    <tr>\n",
       "      <th>mean</th>\n",
       "      <td>17.353933</td>\n",
       "      <td>NaN</td>\n",
       "      <td>NaN</td>\n",
       "      <td>1.0</td>\n",
       "      <td>NaN</td>\n",
       "      <td>NaN</td>\n",
       "      <td>NaN</td>\n",
       "      <td>NaN</td>\n",
       "      <td>NaN</td>\n",
       "      <td>NaN</td>\n",
       "      <td>NaN</td>\n",
       "      <td>NaN</td>\n",
       "      <td>NaN</td>\n",
       "      <td>NaN</td>\n",
       "    </tr>\n",
       "    <tr>\n",
       "      <th>std</th>\n",
       "      <td>1.627278</td>\n",
       "      <td>NaN</td>\n",
       "      <td>NaN</td>\n",
       "      <td>NaN</td>\n",
       "      <td>NaN</td>\n",
       "      <td>NaN</td>\n",
       "      <td>NaN</td>\n",
       "      <td>NaN</td>\n",
       "      <td>NaN</td>\n",
       "      <td>NaN</td>\n",
       "      <td>NaN</td>\n",
       "      <td>NaN</td>\n",
       "      <td>NaN</td>\n",
       "      <td>NaN</td>\n",
       "    </tr>\n",
       "    <tr>\n",
       "      <th>min</th>\n",
       "      <td>2.000000</td>\n",
       "      <td>NaN</td>\n",
       "      <td>NaN</td>\n",
       "      <td>1.0</td>\n",
       "      <td>NaN</td>\n",
       "      <td>NaN</td>\n",
       "      <td>NaN</td>\n",
       "      <td>NaN</td>\n",
       "      <td>NaN</td>\n",
       "      <td>NaN</td>\n",
       "      <td>NaN</td>\n",
       "      <td>NaN</td>\n",
       "      <td>NaN</td>\n",
       "      <td>NaN</td>\n",
       "    </tr>\n",
       "    <tr>\n",
       "      <th>25%</th>\n",
       "      <td>17.000000</td>\n",
       "      <td>NaN</td>\n",
       "      <td>NaN</td>\n",
       "      <td>1.0</td>\n",
       "      <td>NaN</td>\n",
       "      <td>NaN</td>\n",
       "      <td>NaN</td>\n",
       "      <td>NaN</td>\n",
       "      <td>NaN</td>\n",
       "      <td>NaN</td>\n",
       "      <td>NaN</td>\n",
       "      <td>NaN</td>\n",
       "      <td>NaN</td>\n",
       "      <td>NaN</td>\n",
       "    </tr>\n",
       "    <tr>\n",
       "      <th>50%</th>\n",
       "      <td>17.000000</td>\n",
       "      <td>NaN</td>\n",
       "      <td>NaN</td>\n",
       "      <td>1.0</td>\n",
       "      <td>NaN</td>\n",
       "      <td>NaN</td>\n",
       "      <td>NaN</td>\n",
       "      <td>NaN</td>\n",
       "      <td>NaN</td>\n",
       "      <td>NaN</td>\n",
       "      <td>NaN</td>\n",
       "      <td>NaN</td>\n",
       "      <td>NaN</td>\n",
       "      <td>NaN</td>\n",
       "    </tr>\n",
       "    <tr>\n",
       "      <th>75%</th>\n",
       "      <td>18.000000</td>\n",
       "      <td>NaN</td>\n",
       "      <td>NaN</td>\n",
       "      <td>1.0</td>\n",
       "      <td>NaN</td>\n",
       "      <td>NaN</td>\n",
       "      <td>NaN</td>\n",
       "      <td>NaN</td>\n",
       "      <td>NaN</td>\n",
       "      <td>NaN</td>\n",
       "      <td>NaN</td>\n",
       "      <td>NaN</td>\n",
       "      <td>NaN</td>\n",
       "      <td>NaN</td>\n",
       "    </tr>\n",
       "    <tr>\n",
       "      <th>max</th>\n",
       "      <td>22.000000</td>\n",
       "      <td>NaN</td>\n",
       "      <td>NaN</td>\n",
       "      <td>1.0</td>\n",
       "      <td>NaN</td>\n",
       "      <td>NaN</td>\n",
       "      <td>NaN</td>\n",
       "      <td>NaN</td>\n",
       "      <td>NaN</td>\n",
       "      <td>NaN</td>\n",
       "      <td>NaN</td>\n",
       "      <td>NaN</td>\n",
       "      <td>NaN</td>\n",
       "      <td>NaN</td>\n",
       "    </tr>\n",
       "  </tbody>\n",
       "</table>\n",
       "</div>"
      ],
      "text/plain": [
       "               age   sex      religion  other3 ethnicity other4  education  \\\n",
       "count   178.000000   200           200     1.0       188     13        200   \n",
       "unique         NaN     2             3     NaN         6     11          1   \n",
       "top            NaN  male  christianity     NaN      akan  hausa  secondary   \n",
       "freq           NaN   121           181     NaN       162      3        200   \n",
       "mean     17.353933   NaN           NaN     1.0       NaN    NaN        NaN   \n",
       "std       1.627278   NaN           NaN     NaN       NaN    NaN        NaN   \n",
       "min       2.000000   NaN           NaN     1.0       NaN    NaN        NaN   \n",
       "25%      17.000000   NaN           NaN     1.0       NaN    NaN        NaN   \n",
       "50%      17.000000   NaN           NaN     1.0       NaN    NaN        NaN   \n",
       "75%      18.000000   NaN           NaN     1.0       NaN    NaN        NaN   \n",
       "max      22.000000   NaN           NaN     1.0       NaN    NaN        NaN   \n",
       "\n",
       "       maritalstatus  other6        MS1 guardian        other7  KC1  KC2  \n",
       "count            200     0.0         70      180            20  200  0.0  \n",
       "unique             3     NaN          5        3             3    2  NaN  \n",
       "top           single     NaN  secondary   mother  both parents  yes  NaN  \n",
       "freq             129     NaN         48      103            18  198  NaN  \n",
       "mean             NaN     NaN        NaN      NaN           NaN  NaN  NaN  \n",
       "std              NaN     NaN        NaN      NaN           NaN  NaN  NaN  \n",
       "min              NaN     NaN        NaN      NaN           NaN  NaN  NaN  \n",
       "25%              NaN     NaN        NaN      NaN           NaN  NaN  NaN  \n",
       "50%              NaN     NaN        NaN      NaN           NaN  NaN  NaN  \n",
       "75%              NaN     NaN        NaN      NaN           NaN  NaN  NaN  \n",
       "max              NaN     NaN        NaN      NaN           NaN  NaN  NaN  "
      ]
     },
     "execution_count": 6,
     "metadata": {},
     "output_type": "execute_result"
    }
   ],
   "source": [
    "section_a.describe(include='all')"
   ]
  },
  {
   "cell_type": "markdown",
   "metadata": {},
   "source": [
    "<h3>More Data Wrangling</h3>"
   ]
  },
  {
   "cell_type": "code",
   "execution_count": 7,
   "metadata": {},
   "outputs": [],
   "source": [
    "# Dropped other religion column since it has no vals\n",
    "section_a = section_a.drop('other3', axis=1)"
   ]
  },
  {
   "cell_type": "code",
   "execution_count": 8,
   "metadata": {},
   "outputs": [
    {
     "data": {
      "text/plain": [
       "age               22\n",
       "sex                0\n",
       "religion           0\n",
       "ethnicity         12\n",
       "other4           187\n",
       "education          0\n",
       "maritalstatus      0\n",
       "other6           200\n",
       "MS1              130\n",
       "guardian          20\n",
       "other7           180\n",
       "KC1                0\n",
       "KC2              200\n",
       "dtype: int64"
      ]
     },
     "execution_count": 8,
     "metadata": {},
     "output_type": "execute_result"
    }
   ],
   "source": [
    "section_a.isnull().sum(axis=0)"
   ]
  },
  {
   "cell_type": "code",
   "execution_count": 9,
   "metadata": {},
   "outputs": [],
   "source": [
    "# filling in other ethnicity into ethnicity col\n",
    "for i in range(0,section_a.shape[0]):\n",
    "    if section_a['ethnicity'].isnull()[i]:\n",
    "        section_a['ethnicity'][i] = section_a['other4'][i]"
   ]
  },
  {
   "cell_type": "code",
   "execution_count": 10,
   "metadata": {},
   "outputs": [],
   "source": [
    "# removing other ethnicity column and other marital status\n",
    "section_a = section_a.drop('other4', axis=1)\n",
    "section_a = section_a.drop('other6', axis=1)"
   ]
  },
  {
   "cell_type": "code",
   "execution_count": 11,
   "metadata": {},
   "outputs": [
    {
     "data": {
      "text/plain": [
       "age               22\n",
       "sex                0\n",
       "religion           0\n",
       "ethnicity          0\n",
       "education          0\n",
       "maritalstatus      0\n",
       "MS1              130\n",
       "guardian          20\n",
       "other7           180\n",
       "KC1                0\n",
       "KC2              200\n",
       "dtype: int64"
      ]
     },
     "execution_count": 11,
     "metadata": {},
     "output_type": "execute_result"
    }
   ],
   "source": [
    "section_a.isnull().sum(axis=0)"
   ]
  },
  {
   "cell_type": "code",
   "execution_count": 12,
   "metadata": {},
   "outputs": [],
   "source": [
    "# filling in guardian with other guardian\n",
    "for i in range(0,section_a.shape[0]):\n",
    "    if section_a['guardian'].isnull()[i]:\n",
    "        section_a['guardian'][i] = section_a['other7'][i]"
   ]
  },
  {
   "cell_type": "code",
   "execution_count": 13,
   "metadata": {},
   "outputs": [],
   "source": [
    "section_a = section_a.drop('other7', axis=1)"
   ]
  },
  {
   "cell_type": "code",
   "execution_count": 14,
   "metadata": {},
   "outputs": [
    {
     "data": {
      "text/html": [
       "<div>\n",
       "<style scoped>\n",
       "    .dataframe tbody tr th:only-of-type {\n",
       "        vertical-align: middle;\n",
       "    }\n",
       "\n",
       "    .dataframe tbody tr th {\n",
       "        vertical-align: top;\n",
       "    }\n",
       "\n",
       "    .dataframe thead th {\n",
       "        text-align: right;\n",
       "    }\n",
       "</style>\n",
       "<table border=\"1\" class=\"dataframe\">\n",
       "  <thead>\n",
       "    <tr style=\"text-align: right;\">\n",
       "      <th></th>\n",
       "      <th>age</th>\n",
       "      <th>sex</th>\n",
       "      <th>religion</th>\n",
       "      <th>ethnicity</th>\n",
       "      <th>education</th>\n",
       "      <th>maritalstatus</th>\n",
       "      <th>MS1</th>\n",
       "      <th>guardian</th>\n",
       "      <th>KC1</th>\n",
       "      <th>KC2</th>\n",
       "    </tr>\n",
       "  </thead>\n",
       "  <tbody>\n",
       "    <tr>\n",
       "      <th>count</th>\n",
       "      <td>178.000000</td>\n",
       "      <td>200</td>\n",
       "      <td>200</td>\n",
       "      <td>200</td>\n",
       "      <td>200</td>\n",
       "      <td>200</td>\n",
       "      <td>70</td>\n",
       "      <td>200</td>\n",
       "      <td>200</td>\n",
       "      <td>0.0</td>\n",
       "    </tr>\n",
       "    <tr>\n",
       "      <th>unique</th>\n",
       "      <td>NaN</td>\n",
       "      <td>2</td>\n",
       "      <td>3</td>\n",
       "      <td>16</td>\n",
       "      <td>1</td>\n",
       "      <td>3</td>\n",
       "      <td>5</td>\n",
       "      <td>6</td>\n",
       "      <td>2</td>\n",
       "      <td>NaN</td>\n",
       "    </tr>\n",
       "    <tr>\n",
       "      <th>top</th>\n",
       "      <td>NaN</td>\n",
       "      <td>male</td>\n",
       "      <td>christianity</td>\n",
       "      <td>akan</td>\n",
       "      <td>secondary</td>\n",
       "      <td>single</td>\n",
       "      <td>secondary</td>\n",
       "      <td>mother</td>\n",
       "      <td>yes</td>\n",
       "      <td>NaN</td>\n",
       "    </tr>\n",
       "    <tr>\n",
       "      <th>freq</th>\n",
       "      <td>NaN</td>\n",
       "      <td>121</td>\n",
       "      <td>181</td>\n",
       "      <td>162</td>\n",
       "      <td>200</td>\n",
       "      <td>129</td>\n",
       "      <td>48</td>\n",
       "      <td>103</td>\n",
       "      <td>198</td>\n",
       "      <td>NaN</td>\n",
       "    </tr>\n",
       "    <tr>\n",
       "      <th>mean</th>\n",
       "      <td>17.353933</td>\n",
       "      <td>NaN</td>\n",
       "      <td>NaN</td>\n",
       "      <td>NaN</td>\n",
       "      <td>NaN</td>\n",
       "      <td>NaN</td>\n",
       "      <td>NaN</td>\n",
       "      <td>NaN</td>\n",
       "      <td>NaN</td>\n",
       "      <td>NaN</td>\n",
       "    </tr>\n",
       "    <tr>\n",
       "      <th>std</th>\n",
       "      <td>1.627278</td>\n",
       "      <td>NaN</td>\n",
       "      <td>NaN</td>\n",
       "      <td>NaN</td>\n",
       "      <td>NaN</td>\n",
       "      <td>NaN</td>\n",
       "      <td>NaN</td>\n",
       "      <td>NaN</td>\n",
       "      <td>NaN</td>\n",
       "      <td>NaN</td>\n",
       "    </tr>\n",
       "    <tr>\n",
       "      <th>min</th>\n",
       "      <td>2.000000</td>\n",
       "      <td>NaN</td>\n",
       "      <td>NaN</td>\n",
       "      <td>NaN</td>\n",
       "      <td>NaN</td>\n",
       "      <td>NaN</td>\n",
       "      <td>NaN</td>\n",
       "      <td>NaN</td>\n",
       "      <td>NaN</td>\n",
       "      <td>NaN</td>\n",
       "    </tr>\n",
       "    <tr>\n",
       "      <th>25%</th>\n",
       "      <td>17.000000</td>\n",
       "      <td>NaN</td>\n",
       "      <td>NaN</td>\n",
       "      <td>NaN</td>\n",
       "      <td>NaN</td>\n",
       "      <td>NaN</td>\n",
       "      <td>NaN</td>\n",
       "      <td>NaN</td>\n",
       "      <td>NaN</td>\n",
       "      <td>NaN</td>\n",
       "    </tr>\n",
       "    <tr>\n",
       "      <th>50%</th>\n",
       "      <td>17.000000</td>\n",
       "      <td>NaN</td>\n",
       "      <td>NaN</td>\n",
       "      <td>NaN</td>\n",
       "      <td>NaN</td>\n",
       "      <td>NaN</td>\n",
       "      <td>NaN</td>\n",
       "      <td>NaN</td>\n",
       "      <td>NaN</td>\n",
       "      <td>NaN</td>\n",
       "    </tr>\n",
       "    <tr>\n",
       "      <th>75%</th>\n",
       "      <td>18.000000</td>\n",
       "      <td>NaN</td>\n",
       "      <td>NaN</td>\n",
       "      <td>NaN</td>\n",
       "      <td>NaN</td>\n",
       "      <td>NaN</td>\n",
       "      <td>NaN</td>\n",
       "      <td>NaN</td>\n",
       "      <td>NaN</td>\n",
       "      <td>NaN</td>\n",
       "    </tr>\n",
       "    <tr>\n",
       "      <th>max</th>\n",
       "      <td>22.000000</td>\n",
       "      <td>NaN</td>\n",
       "      <td>NaN</td>\n",
       "      <td>NaN</td>\n",
       "      <td>NaN</td>\n",
       "      <td>NaN</td>\n",
       "      <td>NaN</td>\n",
       "      <td>NaN</td>\n",
       "      <td>NaN</td>\n",
       "      <td>NaN</td>\n",
       "    </tr>\n",
       "  </tbody>\n",
       "</table>\n",
       "</div>"
      ],
      "text/plain": [
       "               age   sex      religion ethnicity  education maritalstatus  \\\n",
       "count   178.000000   200           200       200        200           200   \n",
       "unique         NaN     2             3        16          1             3   \n",
       "top            NaN  male  christianity      akan  secondary        single   \n",
       "freq           NaN   121           181       162        200           129   \n",
       "mean     17.353933   NaN           NaN       NaN        NaN           NaN   \n",
       "std       1.627278   NaN           NaN       NaN        NaN           NaN   \n",
       "min       2.000000   NaN           NaN       NaN        NaN           NaN   \n",
       "25%      17.000000   NaN           NaN       NaN        NaN           NaN   \n",
       "50%      17.000000   NaN           NaN       NaN        NaN           NaN   \n",
       "75%      18.000000   NaN           NaN       NaN        NaN           NaN   \n",
       "max      22.000000   NaN           NaN       NaN        NaN           NaN   \n",
       "\n",
       "              MS1 guardian  KC1  KC2  \n",
       "count          70      200  200  0.0  \n",
       "unique          5        6    2  NaN  \n",
       "top     secondary   mother  yes  NaN  \n",
       "freq           48      103  198  NaN  \n",
       "mean          NaN      NaN  NaN  NaN  \n",
       "std           NaN      NaN  NaN  NaN  \n",
       "min           NaN      NaN  NaN  NaN  \n",
       "25%           NaN      NaN  NaN  NaN  \n",
       "50%           NaN      NaN  NaN  NaN  \n",
       "75%           NaN      NaN  NaN  NaN  \n",
       "max           NaN      NaN  NaN  NaN  "
      ]
     },
     "execution_count": 14,
     "metadata": {},
     "output_type": "execute_result"
    }
   ],
   "source": [
    "section_a.describe(include='all')"
   ]
  },
  {
   "cell_type": "markdown",
   "metadata": {},
   "source": [
    "<h3>Checking for Null Values</h3>"
   ]
  },
  {
   "cell_type": "code",
   "execution_count": 15,
   "metadata": {},
   "outputs": [
    {
     "data": {
      "text/plain": [
       "age               22\n",
       "sex                0\n",
       "religion           0\n",
       "ethnicity          0\n",
       "education          0\n",
       "maritalstatus      0\n",
       "MS1              130\n",
       "guardian           0\n",
       "KC1                0\n",
       "KC2              200\n",
       "dtype: int64"
      ]
     },
     "execution_count": 15,
     "metadata": {},
     "output_type": "execute_result"
    }
   ],
   "source": [
    "section_a.isnull().sum(axis=0)"
   ]
  },
  {
   "cell_type": "code",
   "execution_count": 16,
   "metadata": {},
   "outputs": [],
   "source": [
    "# dropping occupation of guardians since empty\n",
    "section_a = section_a.drop('KC2', axis=1)"
   ]
  },
  {
   "cell_type": "code",
   "execution_count": 17,
   "metadata": {},
   "outputs": [
    {
     "data": {
      "text/plain": [
       "age               22\n",
       "sex                0\n",
       "religion           0\n",
       "ethnicity          0\n",
       "education          0\n",
       "maritalstatus      0\n",
       "MS1              130\n",
       "guardian           0\n",
       "KC1                0\n",
       "dtype: int64"
      ]
     },
     "execution_count": 17,
     "metadata": {},
     "output_type": "execute_result"
    }
   ],
   "source": [
    "section_a.isnull().sum(axis=0)"
   ]
  },
  {
   "cell_type": "code",
   "execution_count": 18,
   "metadata": {},
   "outputs": [],
   "source": [
    "# fill in blank age with mean age\n",
    "avg_age = section_a.mean(axis=0).round()\n",
    "for  i in range(0,section_a.shape[0]):\n",
    "    if section_a['age'].isnull()[i]:\n",
    "        section_a['age'][i] = avg_age"
   ]
  },
  {
   "cell_type": "code",
   "execution_count": 19,
   "metadata": {},
   "outputs": [
    {
     "data": {
      "text/plain": [
       "age                0\n",
       "sex                0\n",
       "religion           0\n",
       "ethnicity          0\n",
       "education          0\n",
       "maritalstatus      0\n",
       "MS1              130\n",
       "guardian           0\n",
       "KC1                0\n",
       "dtype: int64"
      ]
     },
     "execution_count": 19,
     "metadata": {},
     "output_type": "execute_result"
    }
   ],
   "source": [
    "section_a.isnull().sum(axis=0)"
   ]
  },
  {
   "cell_type": "markdown",
   "metadata": {},
   "source": [
    "<h1>Age</h1>"
   ]
  },
  {
   "cell_type": "code",
   "execution_count": 20,
   "metadata": {},
   "outputs": [],
   "source": [
    "# Senam, I filled in the place that had 2 as the age with 20\n",
    "for i in range(0, section_a.shape[0]):\n",
    "    if section_a['age'][i] == 2:\n",
    "        section_a['age'][i] = avg_age"
   ]
  },
  {
   "cell_type": "code",
   "execution_count": 21,
   "metadata": {},
   "outputs": [
    {
     "data": {
      "text/html": [
       "<div>\n",
       "<style scoped>\n",
       "    .dataframe tbody tr th:only-of-type {\n",
       "        vertical-align: middle;\n",
       "    }\n",
       "\n",
       "    .dataframe tbody tr th {\n",
       "        vertical-align: top;\n",
       "    }\n",
       "\n",
       "    .dataframe thead th {\n",
       "        text-align: right;\n",
       "    }\n",
       "</style>\n",
       "<table border=\"1\" class=\"dataframe\">\n",
       "  <thead>\n",
       "    <tr style=\"text-align: right;\">\n",
       "      <th></th>\n",
       "      <th>age</th>\n",
       "      <th>sex</th>\n",
       "      <th>religion</th>\n",
       "      <th>ethnicity</th>\n",
       "      <th>education</th>\n",
       "      <th>maritalstatus</th>\n",
       "      <th>MS1</th>\n",
       "      <th>guardian</th>\n",
       "      <th>KC1</th>\n",
       "    </tr>\n",
       "  </thead>\n",
       "  <tbody>\n",
       "    <tr>\n",
       "      <th>count</th>\n",
       "      <td>200.000000</td>\n",
       "      <td>200</td>\n",
       "      <td>200</td>\n",
       "      <td>200</td>\n",
       "      <td>200</td>\n",
       "      <td>200</td>\n",
       "      <td>70</td>\n",
       "      <td>200</td>\n",
       "      <td>200</td>\n",
       "    </tr>\n",
       "    <tr>\n",
       "      <th>unique</th>\n",
       "      <td>NaN</td>\n",
       "      <td>2</td>\n",
       "      <td>3</td>\n",
       "      <td>16</td>\n",
       "      <td>1</td>\n",
       "      <td>3</td>\n",
       "      <td>5</td>\n",
       "      <td>6</td>\n",
       "      <td>2</td>\n",
       "    </tr>\n",
       "    <tr>\n",
       "      <th>top</th>\n",
       "      <td>NaN</td>\n",
       "      <td>male</td>\n",
       "      <td>christianity</td>\n",
       "      <td>akan</td>\n",
       "      <td>secondary</td>\n",
       "      <td>single</td>\n",
       "      <td>secondary</td>\n",
       "      <td>mother</td>\n",
       "      <td>yes</td>\n",
       "    </tr>\n",
       "    <tr>\n",
       "      <th>freq</th>\n",
       "      <td>NaN</td>\n",
       "      <td>121</td>\n",
       "      <td>181</td>\n",
       "      <td>162</td>\n",
       "      <td>200</td>\n",
       "      <td>129</td>\n",
       "      <td>48</td>\n",
       "      <td>103</td>\n",
       "      <td>198</td>\n",
       "    </tr>\n",
       "    <tr>\n",
       "      <th>mean</th>\n",
       "      <td>17.390000</td>\n",
       "      <td>NaN</td>\n",
       "      <td>NaN</td>\n",
       "      <td>NaN</td>\n",
       "      <td>NaN</td>\n",
       "      <td>NaN</td>\n",
       "      <td>NaN</td>\n",
       "      <td>NaN</td>\n",
       "      <td>NaN</td>\n",
       "    </tr>\n",
       "    <tr>\n",
       "      <th>std</th>\n",
       "      <td>1.088035</td>\n",
       "      <td>NaN</td>\n",
       "      <td>NaN</td>\n",
       "      <td>NaN</td>\n",
       "      <td>NaN</td>\n",
       "      <td>NaN</td>\n",
       "      <td>NaN</td>\n",
       "      <td>NaN</td>\n",
       "      <td>NaN</td>\n",
       "    </tr>\n",
       "    <tr>\n",
       "      <th>min</th>\n",
       "      <td>11.000000</td>\n",
       "      <td>NaN</td>\n",
       "      <td>NaN</td>\n",
       "      <td>NaN</td>\n",
       "      <td>NaN</td>\n",
       "      <td>NaN</td>\n",
       "      <td>NaN</td>\n",
       "      <td>NaN</td>\n",
       "      <td>NaN</td>\n",
       "    </tr>\n",
       "    <tr>\n",
       "      <th>25%</th>\n",
       "      <td>17.000000</td>\n",
       "      <td>NaN</td>\n",
       "      <td>NaN</td>\n",
       "      <td>NaN</td>\n",
       "      <td>NaN</td>\n",
       "      <td>NaN</td>\n",
       "      <td>NaN</td>\n",
       "      <td>NaN</td>\n",
       "      <td>NaN</td>\n",
       "    </tr>\n",
       "    <tr>\n",
       "      <th>50%</th>\n",
       "      <td>17.000000</td>\n",
       "      <td>NaN</td>\n",
       "      <td>NaN</td>\n",
       "      <td>NaN</td>\n",
       "      <td>NaN</td>\n",
       "      <td>NaN</td>\n",
       "      <td>NaN</td>\n",
       "      <td>NaN</td>\n",
       "      <td>NaN</td>\n",
       "    </tr>\n",
       "    <tr>\n",
       "      <th>75%</th>\n",
       "      <td>18.000000</td>\n",
       "      <td>NaN</td>\n",
       "      <td>NaN</td>\n",
       "      <td>NaN</td>\n",
       "      <td>NaN</td>\n",
       "      <td>NaN</td>\n",
       "      <td>NaN</td>\n",
       "      <td>NaN</td>\n",
       "      <td>NaN</td>\n",
       "    </tr>\n",
       "    <tr>\n",
       "      <th>max</th>\n",
       "      <td>22.000000</td>\n",
       "      <td>NaN</td>\n",
       "      <td>NaN</td>\n",
       "      <td>NaN</td>\n",
       "      <td>NaN</td>\n",
       "      <td>NaN</td>\n",
       "      <td>NaN</td>\n",
       "      <td>NaN</td>\n",
       "      <td>NaN</td>\n",
       "    </tr>\n",
       "  </tbody>\n",
       "</table>\n",
       "</div>"
      ],
      "text/plain": [
       "               age   sex      religion ethnicity  education maritalstatus  \\\n",
       "count   200.000000   200           200       200        200           200   \n",
       "unique         NaN     2             3        16          1             3   \n",
       "top            NaN  male  christianity      akan  secondary        single   \n",
       "freq           NaN   121           181       162        200           129   \n",
       "mean     17.390000   NaN           NaN       NaN        NaN           NaN   \n",
       "std       1.088035   NaN           NaN       NaN        NaN           NaN   \n",
       "min      11.000000   NaN           NaN       NaN        NaN           NaN   \n",
       "25%      17.000000   NaN           NaN       NaN        NaN           NaN   \n",
       "50%      17.000000   NaN           NaN       NaN        NaN           NaN   \n",
       "75%      18.000000   NaN           NaN       NaN        NaN           NaN   \n",
       "max      22.000000   NaN           NaN       NaN        NaN           NaN   \n",
       "\n",
       "              MS1 guardian  KC1  \n",
       "count          70      200  200  \n",
       "unique          5        6    2  \n",
       "top     secondary   mother  yes  \n",
       "freq           48      103  198  \n",
       "mean          NaN      NaN  NaN  \n",
       "std           NaN      NaN  NaN  \n",
       "min           NaN      NaN  NaN  \n",
       "25%           NaN      NaN  NaN  \n",
       "50%           NaN      NaN  NaN  \n",
       "75%           NaN      NaN  NaN  \n",
       "max           NaN      NaN  NaN  "
      ]
     },
     "execution_count": 21,
     "metadata": {},
     "output_type": "execute_result"
    }
   ],
   "source": [
    "section_a.describe(include='all')"
   ]
  },
  {
   "cell_type": "markdown",
   "metadata": {},
   "source": [
    "<h3>Mean of Ages</h3>"
   ]
  },
  {
   "cell_type": "code",
   "execution_count": 22,
   "metadata": {},
   "outputs": [
    {
     "name": "stdout",
     "output_type": "stream",
     "text": [
      "The mean age is age    17.0\n",
      "dtype: float64\n"
     ]
    }
   ],
   "source": [
    "print(\"The mean age is {}\".format(section_a.mean(axis=0).round()))"
   ]
  },
  {
   "cell_type": "code",
   "execution_count": 23,
   "metadata": {},
   "outputs": [
    {
     "data": {
      "image/png": "[encoded data removed]",
      "text/plain": [
       "<Figure size 1224x504 with 1 Axes>"
      ]
     },
     "metadata": {
      "needs_background": "light"
     },
     "output_type": "display_data"
    }
   ],
   "source": [
    "# Histogram of ages\n",
    "y = [1,5,10,15,20,25]\n",
    "plt.figure(figsize=[17,7])\n",
    "plt.style.use(\"seaborn\")\n",
    "plt.hist(section_a.age,y, ec=\"red\",color=\"#643767\")\n",
    "plt.xlabel(\"Age(yrs)\")\n",
    "plt.ylabel(\"Frequency\")\n",
    "plt.title(\"Age of Respondents\")\n",
    "plt.xticks(y)\n",
    "\n",
    "plt.show()"
   ]
  },
  {
   "cell_type": "markdown",
   "metadata": {},
   "source": [
    "<h1>Sex</h1>"
   ]
  },
  {
   "cell_type": "code",
   "execution_count": 24,
   "metadata": {},
   "outputs": [
    {
     "data": {
      "image/png": "[encoded data removed]",
      "text/plain": [
       "<Figure size 1224x504 with 1 Axes>"
      ]
     },
     "metadata": {},
     "output_type": "display_data"
    }
   ],
   "source": [
    "# Histogram of sex\n",
    "plt.figure(figsize=[17,7])\n",
    "plt.bar([\"Males\",\"Females\"],[121,79], width=.3, ec=\"red\", color=\"#643767\")\n",
    "plt.xlabel(\"Sex\")\n",
    "plt.ylabel(\"Frequency\")\n",
    "plt.title(\"Sex of Respondents\")\n",
    "\n",
    "plt.show()"
   ]
  },
  {
   "cell_type": "code",
   "execution_count": 25,
   "metadata": {},
   "outputs": [
    {
     "data": {
      "text/plain": [
       "male      121\n",
       "female     79\n",
       "Name: sex, dtype: int64"
      ]
     },
     "execution_count": 25,
     "metadata": {},
     "output_type": "execute_result"
    }
   ],
   "source": [
    "# value counts of sex\n",
    "section_a.sex.value_counts()"
   ]
  },
  {
   "cell_type": "markdown",
   "metadata": {},
   "source": [
    "<h3>Percentages of Sex</h3>\n"
   ]
  },
  {
   "cell_type": "code",
   "execution_count": 26,
   "metadata": {},
   "outputs": [
    {
     "name": "stdout",
     "output_type": "stream",
     "text": [
      "Males: 60.5%\n",
      "\n",
      "Females: 39.5%\n"
     ]
    }
   ],
   "source": [
    "male = (121/200)*100\n",
    "female = (79/200)*100\n",
    "print(\"Males: {}%\\n\".format(male))\n",
    "print(\"Females: {}%\".format(female))"
   ]
  },
  {
   "cell_type": "markdown",
   "metadata": {},
   "source": [
    "<h1>Religion</h1>"
   ]
  },
  {
   "cell_type": "code",
   "execution_count": 27,
   "metadata": {},
   "outputs": [
    {
     "data": {
      "text/plain": [
       "christianity    181\n",
       "islam            18\n",
       "traditional       1\n",
       "Name: religion, dtype: int64"
      ]
     },
     "execution_count": 27,
     "metadata": {},
     "output_type": "execute_result"
    }
   ],
   "source": [
    "section_a.religion.value_counts()"
   ]
  },
  {
   "cell_type": "code",
   "execution_count": 28,
   "metadata": {},
   "outputs": [
    {
     "data": {
      "image/png": "[encoded data removed]",
      "text/plain": [
       "<Figure size 1440x504 with 1 Axes>"
      ]
     },
     "metadata": {},
     "output_type": "display_data"
    }
   ],
   "source": [
    "# plt.style.use(\"fivethirtyeight\")\n",
    "slices = [181,18,1]\n",
    "labels = [\"Christianity - 90.5%\", \"Islam - 9%\", \"Others - 0.5%\"]\n",
    "plt.figure(figsize=[20,7])\n",
    "plt.pie(slices, labels=labels, wedgeprops={'edgecolor':'black'})\n",
    "plt.title('Pie Chart of Respondent Religion')\n",
    "plt.tight_layout()\n",
    "plt.legend()\n",
    "plt.show()"
   ]
  },
  {
   "cell_type": "code",
   "execution_count": 29,
   "metadata": {},
   "outputs": [
    {
     "data": {
      "text/plain": [
       "array(['akan', 'ga', 'ewe', 'Grusi', 'Krobo', 'dagomba', 'frafra',\n",
       "       'gonja', 'kasaase', 'alaata', 'hausa', 'kokomba', 'sisala',\n",
       "       'fulani', 'Kassina', 'krobo'], dtype=object)"
      ]
     },
     "execution_count": 29,
     "metadata": {},
     "output_type": "execute_result"
    }
   ],
   "source": [
    "# Percentages of Ethnicity\n",
    "section_a.ethnicity.unique()"
   ]
  },
  {
   "cell_type": "code",
   "execution_count": 30,
   "metadata": {},
   "outputs": [],
   "source": [
    "ethnic = pd.DataFrame(section_a.ethnicity.value_counts())\n",
    "ethnic.reset_index(inplace=True)\n",
    "header = [\"ethnicity\",\"frequency\"]\n",
    "ethnic.columns = header"
   ]
  },
  {
   "cell_type": "code",
   "execution_count": 31,
   "metadata": {},
   "outputs": [
    {
     "name": "stdout",
     "output_type": "stream",
     "text": [
      "Ethnicity: akan ----- Percentage: 81.0% \n",
      "\n",
      "Ethnicity: ewe ----- Percentage: 5.5% \n",
      "\n",
      "Ethnicity: dagomba ----- Percentage: 2.5% \n",
      "\n",
      "Ethnicity: ga ----- Percentage: 2.5% \n",
      "\n",
      "Ethnicity: hausa ----- Percentage: 1.5% \n",
      "\n",
      "Ethnicity: frafra ----- Percentage: 1.5% \n",
      "\n",
      "Ethnicity: gonja ----- Percentage: 1.0% \n",
      "\n",
      "Ethnicity: kasaase ----- Percentage: 0.5% \n",
      "\n",
      "Ethnicity: Kassina ----- Percentage: 0.5% \n",
      "\n",
      "Ethnicity: kokomba ----- Percentage: 0.5% \n",
      "\n",
      "Ethnicity: Krobo ----- Percentage: 0.5% \n",
      "\n",
      "Ethnicity: fulani ----- Percentage: 0.5% \n",
      "\n",
      "Ethnicity: alaata ----- Percentage: 0.5% \n",
      "\n",
      "Ethnicity: sisala ----- Percentage: 0.5% \n",
      "\n",
      "Ethnicity: krobo ----- Percentage: 0.5% \n",
      "\n",
      "Ethnicity: Grusi ----- Percentage: 0.5% \n",
      "\n",
      "--------------------------------------------\n",
      "Others: 6.0%\n"
     ]
    }
   ],
   "source": [
    "for i in range(0,ethnic.shape[0]):\n",
    "    percentage = (ethnic.frequency[i]/section_a.shape[0])*100\n",
    "    ethnicity = ethnic.ethnicity[i]\n",
    "    print(\"Ethnicity: {} ----- Percentage: {}% \\n\".format(ethnicity,percentage))\n",
    "print(\"--------------------------------------------\")\n",
    "print(\"Others: {}%\".format((0.015+0.005*9)*100))"
   ]
  },
  {
   "cell_type": "markdown",
   "metadata": {},
   "source": [
    "<h1>Education</h1>"
   ]
  },
  {
   "cell_type": "code",
   "execution_count": 32,
   "metadata": {},
   "outputs": [
    {
     "data": {
      "text/plain": [
       "array(['secondary'], dtype=object)"
      ]
     },
     "execution_count": 32,
     "metadata": {},
     "output_type": "execute_result"
    }
   ],
   "source": [
    "# checking unique values\n",
    "section_a.education.unique()"
   ]
  },
  {
   "cell_type": "markdown",
   "metadata": {},
   "source": [
    "<h3>The population in this study were all high school students</h3>"
   ]
  },
  {
   "cell_type": "markdown",
   "metadata": {},
   "source": [
    "<h1>Marital Status</h1>"
   ]
  },
  {
   "cell_type": "code",
   "execution_count": 33,
   "metadata": {},
   "outputs": [
    {
     "data": {
      "text/plain": [
       "array(['single', 'dating', 'married'], dtype=object)"
      ]
     },
     "execution_count": 33,
     "metadata": {},
     "output_type": "execute_result"
    }
   ],
   "source": [
    "# checking unique values\n",
    "section_a.maritalstatus.unique()"
   ]
  },
  {
   "cell_type": "code",
   "execution_count": 34,
   "metadata": {},
   "outputs": [
    {
     "data": {
      "text/plain": [
       "single     129\n",
       "dating      70\n",
       "married      1\n",
       "Name: maritalstatus, dtype: int64"
      ]
     },
     "execution_count": 34,
     "metadata": {},
     "output_type": "execute_result"
    }
   ],
   "source": [
    "section_a.maritalstatus.value_counts()"
   ]
  },
  {
   "cell_type": "code",
   "execution_count": 35,
   "metadata": {},
   "outputs": [
    {
     "data": {
      "image/png": "[encoded data removed]",
      "text/plain": [
       "<Figure size 1224x504 with 1 Axes>"
      ]
     },
     "metadata": {},
     "output_type": "display_data"
    }
   ],
   "source": [
    "plt.figure(figsize=[17,7])\n",
    "plt.bar([\"Single\",\"Dating\",\"Married\"], [129, 70, 1], ec=\"red\", width=.3,color=\"#643767\")\n",
    "\n",
    "plt.xlabel(\"Sex\")\n",
    "plt.ylabel(\"Frequency\")\n",
    "plt.title(\"Sex of Respondents\")\n",
    "\n",
    "plt.show()"
   ]
  },
  {
   "cell_type": "markdown",
   "metadata": {},
   "source": [
    "<h5> Percentages of Marital Status</h5>"
   ]
  },
  {
   "cell_type": "code",
   "execution_count": 36,
   "metadata": {},
   "outputs": [
    {
     "name": "stdout",
     "output_type": "stream",
     "text": [
      "Single:64.5%, Married: 0.5%, Dating: 35.0%\n"
     ]
    }
   ],
   "source": [
    "single = 129/200\n",
    "dating = 70/200\n",
    "married = 1/200\n",
    "\n",
    "print(\"Single:{}%, Married: {}%, Dating: {}%\".format(single*100,married*100, dating*100))"
   ]
  },
  {
   "cell_type": "code",
   "execution_count": 37,
   "metadata": {},
   "outputs": [
    {
     "data": {
      "text/html": [
       "<div>\n",
       "<style scoped>\n",
       "    .dataframe tbody tr th:only-of-type {\n",
       "        vertical-align: middle;\n",
       "    }\n",
       "\n",
       "    .dataframe tbody tr th {\n",
       "        vertical-align: top;\n",
       "    }\n",
       "\n",
       "    .dataframe thead th {\n",
       "        text-align: right;\n",
       "    }\n",
       "</style>\n",
       "<table border=\"1\" class=\"dataframe\">\n",
       "  <thead>\n",
       "    <tr style=\"text-align: right;\">\n",
       "      <th></th>\n",
       "      <th>age</th>\n",
       "      <th>sex</th>\n",
       "      <th>religion</th>\n",
       "      <th>ethnicity</th>\n",
       "      <th>education</th>\n",
       "      <th>maritalstatus</th>\n",
       "      <th>MS1</th>\n",
       "      <th>guardian</th>\n",
       "      <th>KC1</th>\n",
       "    </tr>\n",
       "  </thead>\n",
       "  <tbody>\n",
       "    <tr>\n",
       "      <th>count</th>\n",
       "      <td>200.000000</td>\n",
       "      <td>200</td>\n",
       "      <td>200</td>\n",
       "      <td>200</td>\n",
       "      <td>200</td>\n",
       "      <td>200</td>\n",
       "      <td>70</td>\n",
       "      <td>200</td>\n",
       "      <td>200</td>\n",
       "    </tr>\n",
       "    <tr>\n",
       "      <th>unique</th>\n",
       "      <td>NaN</td>\n",
       "      <td>2</td>\n",
       "      <td>3</td>\n",
       "      <td>16</td>\n",
       "      <td>1</td>\n",
       "      <td>3</td>\n",
       "      <td>5</td>\n",
       "      <td>6</td>\n",
       "      <td>2</td>\n",
       "    </tr>\n",
       "    <tr>\n",
       "      <th>top</th>\n",
       "      <td>NaN</td>\n",
       "      <td>male</td>\n",
       "      <td>christianity</td>\n",
       "      <td>akan</td>\n",
       "      <td>secondary</td>\n",
       "      <td>single</td>\n",
       "      <td>secondary</td>\n",
       "      <td>mother</td>\n",
       "      <td>yes</td>\n",
       "    </tr>\n",
       "    <tr>\n",
       "      <th>freq</th>\n",
       "      <td>NaN</td>\n",
       "      <td>121</td>\n",
       "      <td>181</td>\n",
       "      <td>162</td>\n",
       "      <td>200</td>\n",
       "      <td>129</td>\n",
       "      <td>48</td>\n",
       "      <td>103</td>\n",
       "      <td>198</td>\n",
       "    </tr>\n",
       "    <tr>\n",
       "      <th>mean</th>\n",
       "      <td>17.390000</td>\n",
       "      <td>NaN</td>\n",
       "      <td>NaN</td>\n",
       "      <td>NaN</td>\n",
       "      <td>NaN</td>\n",
       "      <td>NaN</td>\n",
       "      <td>NaN</td>\n",
       "      <td>NaN</td>\n",
       "      <td>NaN</td>\n",
       "    </tr>\n",
       "    <tr>\n",
       "      <th>std</th>\n",
       "      <td>1.088035</td>\n",
       "      <td>NaN</td>\n",
       "      <td>NaN</td>\n",
       "      <td>NaN</td>\n",
       "      <td>NaN</td>\n",
       "      <td>NaN</td>\n",
       "      <td>NaN</td>\n",
       "      <td>NaN</td>\n",
       "      <td>NaN</td>\n",
       "    </tr>\n",
       "    <tr>\n",
       "      <th>min</th>\n",
       "      <td>11.000000</td>\n",
       "      <td>NaN</td>\n",
       "      <td>NaN</td>\n",
       "      <td>NaN</td>\n",
       "      <td>NaN</td>\n",
       "      <td>NaN</td>\n",
       "      <td>NaN</td>\n",
       "      <td>NaN</td>\n",
       "      <td>NaN</td>\n",
       "    </tr>\n",
       "    <tr>\n",
       "      <th>25%</th>\n",
       "      <td>17.000000</td>\n",
       "      <td>NaN</td>\n",
       "      <td>NaN</td>\n",
       "      <td>NaN</td>\n",
       "      <td>NaN</td>\n",
       "      <td>NaN</td>\n",
       "      <td>NaN</td>\n",
       "      <td>NaN</td>\n",
       "      <td>NaN</td>\n",
       "    </tr>\n",
       "    <tr>\n",
       "      <th>50%</th>\n",
       "      <td>17.000000</td>\n",
       "      <td>NaN</td>\n",
       "      <td>NaN</td>\n",
       "      <td>NaN</td>\n",
       "      <td>NaN</td>\n",
       "      <td>NaN</td>\n",
       "      <td>NaN</td>\n",
       "      <td>NaN</td>\n",
       "      <td>NaN</td>\n",
       "    </tr>\n",
       "    <tr>\n",
       "      <th>75%</th>\n",
       "      <td>18.000000</td>\n",
       "      <td>NaN</td>\n",
       "      <td>NaN</td>\n",
       "      <td>NaN</td>\n",
       "      <td>NaN</td>\n",
       "      <td>NaN</td>\n",
       "      <td>NaN</td>\n",
       "      <td>NaN</td>\n",
       "      <td>NaN</td>\n",
       "    </tr>\n",
       "    <tr>\n",
       "      <th>max</th>\n",
       "      <td>22.000000</td>\n",
       "      <td>NaN</td>\n",
       "      <td>NaN</td>\n",
       "      <td>NaN</td>\n",
       "      <td>NaN</td>\n",
       "      <td>NaN</td>\n",
       "      <td>NaN</td>\n",
       "      <td>NaN</td>\n",
       "      <td>NaN</td>\n",
       "    </tr>\n",
       "  </tbody>\n",
       "</table>\n",
       "</div>"
      ],
      "text/plain": [
       "               age   sex      religion ethnicity  education maritalstatus  \\\n",
       "count   200.000000   200           200       200        200           200   \n",
       "unique         NaN     2             3        16          1             3   \n",
       "top            NaN  male  christianity      akan  secondary        single   \n",
       "freq           NaN   121           181       162        200           129   \n",
       "mean     17.390000   NaN           NaN       NaN        NaN           NaN   \n",
       "std       1.088035   NaN           NaN       NaN        NaN           NaN   \n",
       "min      11.000000   NaN           NaN       NaN        NaN           NaN   \n",
       "25%      17.000000   NaN           NaN       NaN        NaN           NaN   \n",
       "50%      17.000000   NaN           NaN       NaN        NaN           NaN   \n",
       "75%      18.000000   NaN           NaN       NaN        NaN           NaN   \n",
       "max      22.000000   NaN           NaN       NaN        NaN           NaN   \n",
       "\n",
       "              MS1 guardian  KC1  \n",
       "count          70      200  200  \n",
       "unique          5        6    2  \n",
       "top     secondary   mother  yes  \n",
       "freq           48      103  198  \n",
       "mean          NaN      NaN  NaN  \n",
       "std           NaN      NaN  NaN  \n",
       "min           NaN      NaN  NaN  \n",
       "25%           NaN      NaN  NaN  \n",
       "50%           NaN      NaN  NaN  \n",
       "75%           NaN      NaN  NaN  \n",
       "max           NaN      NaN  NaN  "
      ]
     },
     "execution_count": 37,
     "metadata": {},
     "output_type": "execute_result"
    }
   ],
   "source": [
    "section_a.describe(include='all')"
   ]
  },
  {
   "cell_type": "markdown",
   "metadata": {},
   "source": [
    "<h1>Education of Partner if married or Dating</h1>"
   ]
  },
  {
   "cell_type": "code",
   "execution_count": 38,
   "metadata": {},
   "outputs": [
    {
     "data": {
      "text/html": [
       "<div>\n",
       "<style scoped>\n",
       "    .dataframe tbody tr th:only-of-type {\n",
       "        vertical-align: middle;\n",
       "    }\n",
       "\n",
       "    .dataframe tbody tr th {\n",
       "        vertical-align: top;\n",
       "    }\n",
       "\n",
       "    .dataframe thead th {\n",
       "        text-align: right;\n",
       "    }\n",
       "</style>\n",
       "<table border=\"1\" class=\"dataframe\">\n",
       "  <thead>\n",
       "    <tr style=\"text-align: right;\">\n",
       "      <th></th>\n",
       "      <th>maritalstatus</th>\n",
       "      <th>MS1</th>\n",
       "    </tr>\n",
       "  </thead>\n",
       "  <tbody>\n",
       "    <tr>\n",
       "      <th>3</th>\n",
       "      <td>dating</td>\n",
       "      <td>secondary</td>\n",
       "    </tr>\n",
       "    <tr>\n",
       "      <th>4</th>\n",
       "      <td>dating</td>\n",
       "      <td>tertiary</td>\n",
       "    </tr>\n",
       "    <tr>\n",
       "      <th>5</th>\n",
       "      <td>dating</td>\n",
       "      <td>tertiary</td>\n",
       "    </tr>\n",
       "    <tr>\n",
       "      <th>8</th>\n",
       "      <td>dating</td>\n",
       "      <td>tertiary</td>\n",
       "    </tr>\n",
       "    <tr>\n",
       "      <th>9</th>\n",
       "      <td>dating</td>\n",
       "      <td>tertiary</td>\n",
       "    </tr>\n",
       "  </tbody>\n",
       "</table>\n",
       "</div>"
      ],
      "text/plain": [
       "  maritalstatus        MS1\n",
       "3        dating  secondary\n",
       "4        dating   tertiary\n",
       "5        dating   tertiary\n",
       "8        dating   tertiary\n",
       "9        dating   tertiary"
      ]
     },
     "execution_count": 38,
     "metadata": {},
     "output_type": "execute_result"
    }
   ],
   "source": [
    "# extracting married or dating for partner edu. level\n",
    "partner_education = section_a[[\"maritalstatus\", \"MS1\"]][section_a.maritalstatus != 'single']\n",
    "partner_education.head()"
   ]
  },
  {
   "cell_type": "code",
   "execution_count": 39,
   "metadata": {},
   "outputs": [
    {
     "data": {
      "text/plain": [
       "array(['secondary', 'tertiary', 'vocational', nan, 'no formal education',\n",
       "       'primary'], dtype=object)"
      ]
     },
     "execution_count": 39,
     "metadata": {},
     "output_type": "execute_result"
    }
   ],
   "source": [
    "partner_education.MS1.unique()"
   ]
  },
  {
   "cell_type": "code",
   "execution_count": 40,
   "metadata": {},
   "outputs": [
    {
     "data": {
      "text/plain": [
       "secondary              48\n",
       "tertiary               19\n",
       "no formal education     1\n",
       "primary                 1\n",
       "vocational              1\n",
       "Name: MS1, dtype: int64"
      ]
     },
     "execution_count": 40,
     "metadata": {},
     "output_type": "execute_result"
    }
   ],
   "source": [
    "partner_education.MS1.value_counts()"
   ]
  },
  {
   "cell_type": "code",
   "execution_count": 41,
   "metadata": {},
   "outputs": [],
   "source": [
    "# filling in 1 blank with the most common educational level\n",
    "partner_education['MS1'].replace(np.nan,\"secondary\", inplace=True)"
   ]
  },
  {
   "cell_type": "code",
   "execution_count": 42,
   "metadata": {},
   "outputs": [
    {
     "data": {
      "text/plain": [
       "secondary              49\n",
       "tertiary               19\n",
       "no formal education     1\n",
       "primary                 1\n",
       "vocational              1\n",
       "Name: MS1, dtype: int64"
      ]
     },
     "execution_count": 42,
     "metadata": {},
     "output_type": "execute_result"
    }
   ],
   "source": [
    "partner_education.MS1.value_counts()"
   ]
  },
  {
   "cell_type": "code",
   "execution_count": 43,
   "metadata": {},
   "outputs": [
    {
     "data": {
      "image/png": "[encoded data removed]",
      "text/plain": [
       "<Figure size 1224x504 with 1 Axes>"
      ]
     },
     "metadata": {},
     "output_type": "display_data"
    }
   ],
   "source": [
    "# bar chart of educational level\n",
    "plt.figure(figsize=[17,7])\n",
    "plt.bar([\"Secondary\",\"Tertiary\",\"Primary\",\"Vocational\",\"No Formal Education\"],[49,19,1,1,1], width=.3, ec=\"red\", color=\"#643767\")\n",
    "\n",
    "plt.xlabel('Educational Level')\n",
    "plt.ylabel('Frequency')\n",
    "plt.title(\"Educational Level of Partners of Respndents(Dating/Married)\")\n",
    "\n",
    "# plt.tight_layout()\n",
    "plt.show()"
   ]
  },
  {
   "cell_type": "markdown",
   "metadata": {},
   "source": [
    "<h1>Guardian Info</h1>"
   ]
  },
  {
   "cell_type": "markdown",
   "metadata": {},
   "source": [
    "<p>Here the Other option includes:</p>\n",
    "<ul>\n",
    "    <li>Both parents</li>\n",
    "    <li>Parents, uncles, aunties</li>\n",
    "    <li>Sister</li>\n",
    "</ul>"
   ]
  },
  {
   "cell_type": "code",
   "execution_count": 44,
   "metadata": {},
   "outputs": [
    {
     "data": {
      "text/html": [
       "<div>\n",
       "<style scoped>\n",
       "    .dataframe tbody tr th:only-of-type {\n",
       "        vertical-align: middle;\n",
       "    }\n",
       "\n",
       "    .dataframe tbody tr th {\n",
       "        vertical-align: top;\n",
       "    }\n",
       "\n",
       "    .dataframe thead th {\n",
       "        text-align: right;\n",
       "    }\n",
       "</style>\n",
       "<table border=\"1\" class=\"dataframe\">\n",
       "  <thead>\n",
       "    <tr style=\"text-align: right;\">\n",
       "      <th></th>\n",
       "      <th>guardian</th>\n",
       "      <th>frequency</th>\n",
       "    </tr>\n",
       "  </thead>\n",
       "  <tbody>\n",
       "    <tr>\n",
       "      <th>0</th>\n",
       "      <td>mother</td>\n",
       "      <td>103</td>\n",
       "    </tr>\n",
       "    <tr>\n",
       "      <th>1</th>\n",
       "      <td>father</td>\n",
       "      <td>67</td>\n",
       "    </tr>\n",
       "    <tr>\n",
       "      <th>2</th>\n",
       "      <td>both parents</td>\n",
       "      <td>18</td>\n",
       "    </tr>\n",
       "    <tr>\n",
       "      <th>3</th>\n",
       "      <td>uncle‎/auntie</td>\n",
       "      <td>10</td>\n",
       "    </tr>\n",
       "    <tr>\n",
       "      <th>4</th>\n",
       "      <td>sister</td>\n",
       "      <td>1</td>\n",
       "    </tr>\n",
       "    <tr>\n",
       "      <th>5</th>\n",
       "      <td>parents, uncles, aunties</td>\n",
       "      <td>1</td>\n",
       "    </tr>\n",
       "  </tbody>\n",
       "</table>\n",
       "</div>"
      ],
      "text/plain": [
       "                   guardian  frequency\n",
       "0                    mother        103\n",
       "1                    father         67\n",
       "2              both parents         18\n",
       "3             uncle‎/auntie         10\n",
       "4                    sister          1\n",
       "5  parents, uncles, aunties          1"
      ]
     },
     "execution_count": 44,
     "metadata": {},
     "output_type": "execute_result"
    }
   ],
   "source": [
    "guardian = pd.DataFrame(section_a.guardian.value_counts())\n",
    "guardian.reset_index(inplace=True)\n",
    "header = [\"guardian\",\"frequency\"]\n",
    "guardian.columns = header\n",
    "guardian"
   ]
  },
  {
   "cell_type": "markdown",
   "metadata": {},
   "source": [
    "<h3>Percentages for Guardian info</h3>"
   ]
  },
  {
   "cell_type": "code",
   "execution_count": 45,
   "metadata": {},
   "outputs": [
    {
     "name": "stdout",
     "output_type": "stream",
     "text": [
      "Guardian: mother ----------- Percentage: 51.5%\n",
      "\n",
      "Guardian: father ----------- Percentage: 33.5%\n",
      "\n",
      "Guardian: both parents ----------- Percentage: 9.0%\n",
      "\n",
      "Guardian: uncle‎/auntie ----------- Percentage: 5.0%\n",
      "\n",
      "Guardian: sister ----------- Percentage: 0.5%\n",
      "\n",
      "Guardian: parents, uncles, aunties ----------- Percentage: 0.5%\n",
      "\n",
      "-------------------------------------------------------------------\n",
      "Other ----------- Precentage: 10.0%\n"
     ]
    }
   ],
   "source": [
    "for i in range(0, guardian.shape[0]):\n",
    "    percentage = guardian[\"frequency\"][i]/guardian[\"frequency\"].sum(axis=0)*100\n",
    "    print(\"Guardian: {} ----------- Percentage: {}%\\n\".format(guardian[\"guardian\"][i], percentage))\n",
    "\n",
    "print(\"-------------------------------------------------------------------\")\n",
    "print(\"Other ----------- Precentage: {}%\".format((.09+.005+.005)*100))"
   ]
  },
  {
   "cell_type": "markdown",
   "metadata": {},
   "source": [
    "<h3>Bar Graph with all entries</h3>"
   ]
  },
  {
   "cell_type": "code",
   "execution_count": 46,
   "metadata": {},
   "outputs": [
    {
     "data": {
      "image/png": "[encoded data removed]",
      "text/plain": [
       "<Figure size 1224x504 with 1 Axes>"
      ]
     },
     "metadata": {},
     "output_type": "display_data"
    }
   ],
   "source": [
    "plt.figure(figsize=[17,7])\n",
    "\n",
    "x = [\"Mother\",\"Father\",\"Both Parents\",\"Uncle/Auntie\", \"Parents,Uncle,Auntie\",\"Sister\"]\n",
    "y = [51.5,33.5,9,5,.5,.5]\n",
    "plt.bar(x,y, width=.3, color=\"#643767\")\n",
    "\n",
    "plt.xlabel(\"Guardian\")\n",
    "plt.ylabel(\"Frequency(%)\")\n",
    "plt.title(\"Guardian Information\")\n",
    "\n",
    "plt.show()"
   ]
  },
  {
   "cell_type": "markdown",
   "metadata": {},
   "source": [
    "<h3>Bar Graph with both parents, parents uncle aunties, and sisters labelled as others</h3>"
   ]
  },
  {
   "cell_type": "code",
   "execution_count": 47,
   "metadata": {},
   "outputs": [
    {
     "data": {
      "image/png": "[encoded data removed]",
      "text/plain": [
       "<Figure size 1224x504 with 1 Axes>"
      ]
     },
     "metadata": {},
     "output_type": "display_data"
    }
   ],
   "source": [
    "plt.figure(figsize=[17,7])\n",
    "\n",
    "x = [\"Mother\",\"Father\",\"Uncle/Auntie\", \"Ohters\"]\n",
    "y = [51.5,33.5,5,.5+.5+9]\n",
    "plt.bar(x,y, width=.3, color=\"#643767\")\n",
    "\n",
    "plt.xlabel(\"Guardian\")\n",
    "plt.ylabel(\"Frequency(%)\")\n",
    "plt.title(\"Guardian Information\")\n",
    "\n",
    "plt.show()"
   ]
  },
  {
   "cell_type": "code",
   "execution_count": null,
   "metadata": {},
   "outputs": [],
   "source": []
  }
 ],
 "metadata": {
  "kernelspec": {
   "display_name": "Python 3",
   "language": "python",
   "name": "python3"
  },
  "language_info": {
   "codemirror_mode": {
    "name": "ipython",
    "version": 3
   },
   "file_extension": ".py",
   "mimetype": "text/x-python",
   "name": "python",
   "nbconvert_exporter": "python",
   "pygments_lexer": "ipython3",
   "version": "3.8.3"
  }
 },
 "nbformat": 4,
 "nbformat_minor": 4
}
